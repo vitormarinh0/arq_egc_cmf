{
  "nbformat": 4,
  "nbformat_minor": 0,
  "metadata": {
    "colab": {
      "provenance": [],
      "mount_file_id": "15-gsT0WbVs7wyq68IaDtuVWkqXEhEz2N",
      "authorship_tag": "ABX9TyOd8PVf6nZDMbQErEBKJ5Mz",
      "include_colab_link": true
    },
    "kernelspec": {
      "name": "python3",
      "display_name": "Python 3"
    },
    "language_info": {
      "name": "python"
    }
  },
  "cells": [
    {
      "cell_type": "markdown",
      "metadata": {
        "id": "view-in-github",
        "colab_type": "text"
      },
      "source": [
        "<a href=\"https://colab.research.google.com/github/vitormarinh0/arq_egc_cmf/blob/main/robo_EGC_cmf.ipynb\" target=\"_parent\"><img src=\"https://colab.research.google.com/assets/colab-badge.svg\" alt=\"Open In Colab\"/></a>"
      ]
    },
    {
      "cell_type": "markdown",
      "source": [
        "# Substituir Texto em Arquivos .cmf no Python\n",
        "Este notebook mostra como substituir a palavra \"RS\" por \"PA\" em todos os arquivos .cmf em uma pasta específica no Google Drive usando Python no Google Colab."
      ],
      "metadata": {
        "id": "xpJwayG9xiG2"
      }
    },
    {
      "cell_type": "markdown",
      "source": [
        "## Passo 1: Montar o Google Drive\n",
        "Primeiro, precisamos montar o Google Drive para acessar os arquivos."
      ],
      "metadata": {
        "id": "kSdKDjWPxvMy"
      }
    },
    {
      "cell_type": "code",
      "source": [
        "from google.colab import drive\n",
        "drive.mount('/content/drive')\n"
      ],
      "metadata": {
        "id": "GD3iGPyexygF"
      },
      "execution_count": null,
      "outputs": []
    },
    {
      "cell_type": "markdown",
      "source": [
        "## Passo 2: Definir a Função de Substituição de Texto\n",
        "A seguir, definimos uma função para substituir o texto em um arquivo."
      ],
      "metadata": {
        "id": "OampO6c0x3lN"
      }
    },
    {
      "cell_type": "code",
      "source": [
        "import os\n",
        "\n",
        "def replace_text_in_file(file_path, old_text, new_text, new_folder_path):\n",
        "    \"\"\"\n",
        "    Substitui o texto em um arquivo e salva em uma nova pasta.\n",
        "\n",
        "    Args:\n",
        "    file_path (str): O caminho para o arquivo.\n",
        "    old_text (str): O texto a ser substituído.\n",
        "    new_text (str): O novo texto.\n",
        "    new_folder_path (str): O caminho para a nova pasta onde os arquivos modificados serão salvos.\n",
        "    \"\"\"\n",
        "    with open(file_path, 'r', encoding='utf-8') as file:\n",
        "        content = file.read()\n",
        "    updated_content = content.replace(old_text, new_text)\n",
        "\n",
        "    # Criar o caminho para o novo arquivo\n",
        "    new_file_path = os.path.join(new_folder_path, os.path.basename(file_path))\n",
        "\n",
        "    # Salvar o conteúdo atualizado no novo arquivo\n",
        "    with open(new_file_path, 'w', encoding='utf-8') as file:\n",
        "        file.write(updated_content)\n",
        "    print(f'Texto substituído e arquivo salvo em {new_file_path}')"
      ],
      "metadata": {
        "id": "jHtoi5cJx02Z"
      },
      "execution_count": 9,
      "outputs": []
    },
    {
      "cell_type": "markdown",
      "source": [
        "## Passo 3: Especificar o Caminho da Pasta\n",
        "Especifique o caminho da pasta onde os arquivos .cmf estão localizados."
      ],
      "metadata": {
        "id": "qAaCFAAxyBRy"
      }
    },
    {
      "cell_type": "code",
      "source": [
        "# Substitua pelo caminho para a sua pasta no Google Drive\n",
        "original_folder_path = '/content/drive/MyDrive/Projeto EGC Climatico/CMF_MG'\n",
        "\n",
        "#substitua UF pelo respectivo estado em CMF_UF para criar uma pasta\n",
        "new_folder_path = '/content/drive/MyDrive/Projeto EGC Climatico/CMF_PA'\n",
        "# Criar a nova pasta se ela não existir\n",
        "os.makedirs(new_folder_path, exist_ok=True)"
      ],
      "metadata": {
        "id": "xsC__ymHyC6E"
      },
      "execution_count": 10,
      "outputs": []
    },
    {
      "cell_type": "markdown",
      "source": [
        "##Passo 4: Listar Todos os Arquivos .cmf na Pasta\n",
        "Liste todos os arquivos .cmf na pasta especificada."
      ],
      "metadata": {
        "id": "phFuDZ-WyJWP"
      }
    },
    {
      "cell_type": "code",
      "source": [
        "# Listar todos os arquivos .cmf na pasta\n",
        "cmf_files = [os.path.join(original_folder_path, file) for file in os.listdir(original_folder_path) if file.endswith('.cmf')]\n"
      ],
      "metadata": {
        "id": "fMh_Ch19yJDP"
      },
      "execution_count": 11,
      "outputs": []
    },
    {
      "cell_type": "markdown",
      "source": [
        "## Passo 5: Executar a Substituição e Salvar os Arquivos na Nova Pasta\n",
        "Execute a substituição de \"RS\" por \"PA\" em cada arquivo."
      ],
      "metadata": {
        "id": "VHhTd_N1yREz"
      }
    },
    {
      "cell_type": "code",
      "source": [
        "\n",
        "# Executar a substituição para cada arquivo\n",
        "for file_path in cmf_files:\n",
        "    replace_text_in_file(file_path, 'MG', 'PA', new_folder_path)\n"
      ],
      "metadata": {
        "id": "9z0FrfjOyTGO"
      },
      "execution_count": null,
      "outputs": []
    }
  ]
}